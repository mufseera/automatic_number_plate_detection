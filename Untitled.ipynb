{
 "cells": [
  {
   "cell_type": "code",
   "execution_count": 1,
   "id": "fd37cdde",
   "metadata": {},
   "outputs": [
    {
     "name": "stdout",
     "output_type": "stream",
     "text": [
      "Collecting easyocr\n",
      "  Downloading easyocr-1.3.2-py3-none-any.whl (63.2 MB)\n",
      "\u001b[K     |████████████████████████████████| 63.2 MB 10.8 MB/s eta 0:00:01\n",
      "\u001b[?25hCollecting opencv-python\n",
      "  Using cached opencv-python-4.5.1.48.tar.gz (88.3 MB)\n",
      "  Installing build dependencies ... \u001b[?25ldone\n",
      "\u001b[?25h  Getting requirements to build wheel ... \u001b[?25ldone\n",
      "\u001b[?25h    Preparing wheel metadata ... \u001b[?25ldone\n",
      "\u001b[?25hCollecting torchvision>=0.5\n",
      "  Downloading torchvision-0.10.0-cp38-cp38-macosx_11_0_arm64.whl (813 kB)\n",
      "\u001b[K     |████████████████████████████████| 813 kB 9.0 MB/s eta 0:00:01\n",
      "\u001b[?25hRequirement already satisfied: scipy in /Users/mufseeramusthafa/miniforge3/envs/ml/lib/python3.8/site-packages (from easyocr) (1.6.3)\n",
      "Collecting scikit-image\n",
      "  Downloading scikit-image-0.18.1.tar.gz (29.7 MB)\n",
      "\u001b[K     |████████████████████████████████| 29.7 MB 11.2 MB/s eta 0:00:01\n",
      "\u001b[?25h  Installing build dependencies ... \u001b[?25ldone\n",
      "\u001b[?25h  Getting requirements to build wheel ... \u001b[?25ldone\n",
      "\u001b[?25h    Preparing wheel metadata ... \u001b[?25ldone\n",
      "\u001b[?25hRequirement already satisfied: numpy in /Users/mufseeramusthafa/miniforge3/envs/ml/lib/python3.8/site-packages (from easyocr) (1.18.5)\n",
      "Collecting python-bidi\n",
      "  Downloading python_bidi-0.4.2-py2.py3-none-any.whl (30 kB)\n",
      "Requirement already satisfied: PyYAML in /Users/mufseeramusthafa/miniforge3/envs/ml/lib/python3.8/site-packages (from easyocr) (5.4.1)\n",
      "Requirement already satisfied: torch in /Users/mufseeramusthafa/miniforge3/envs/ml/lib/python3.8/site-packages (from easyocr) (1.8.0)\n",
      "Requirement already satisfied: Pillow in /Users/mufseeramusthafa/miniforge3/envs/ml/lib/python3.8/site-packages (from easyocr) (8.2.0)\n",
      "Requirement already satisfied: six in /Users/mufseeramusthafa/miniforge3/envs/ml/lib/python3.8/site-packages (from python-bidi->easyocr) (1.16.0)\n",
      "Collecting networkx>=2.0\n",
      "  Using cached networkx-2.5.1-py3-none-any.whl (1.6 MB)\n",
      "Requirement already satisfied: matplotlib!=3.0.0,>=2.0.0 in /Users/mufseeramusthafa/miniforge3/envs/ml/lib/python3.8/site-packages (from scikit-image->easyocr) (3.4.2)\n",
      "Collecting PyWavelets>=1.1.1\n",
      "  Using cached PyWavelets-1.1.1-cp38-cp38-macosx_11_0_arm64.whl\n",
      "Collecting imageio>=2.3.0\n",
      "  Downloading imageio-2.9.0-py3-none-any.whl (3.3 MB)\n",
      "\u001b[K     |████████████████████████████████| 3.3 MB 10.5 MB/s eta 0:00:01\n",
      "\u001b[?25hCollecting tifffile>=2019.7.26\n",
      "  Downloading tifffile-2021.6.14-py3-none-any.whl (169 kB)\n",
      "\u001b[K     |████████████████████████████████| 169 kB 9.4 MB/s eta 0:00:01\n",
      "\u001b[?25hRequirement already satisfied: pyparsing>=2.2.1 in /Users/mufseeramusthafa/miniforge3/envs/ml/lib/python3.8/site-packages (from matplotlib!=3.0.0,>=2.0.0->scikit-image->easyocr) (2.4.7)\n",
      "Requirement already satisfied: python-dateutil>=2.7 in /Users/mufseeramusthafa/miniforge3/envs/ml/lib/python3.8/site-packages (from matplotlib!=3.0.0,>=2.0.0->scikit-image->easyocr) (2.8.1)\n",
      "Requirement already satisfied: kiwisolver>=1.0.1 in /Users/mufseeramusthafa/miniforge3/envs/ml/lib/python3.8/site-packages (from matplotlib!=3.0.0,>=2.0.0->scikit-image->easyocr) (1.3.1)\n",
      "Requirement already satisfied: cycler>=0.10 in /Users/mufseeramusthafa/miniforge3/envs/ml/lib/python3.8/site-packages (from matplotlib!=3.0.0,>=2.0.0->scikit-image->easyocr) (0.10.0)\n",
      "Collecting decorator<5,>=4.3\n",
      "  Using cached decorator-4.4.2-py2.py3-none-any.whl (9.2 kB)\n",
      "Requirement already satisfied: typing-extensions in /Users/mufseeramusthafa/miniforge3/envs/ml/lib/python3.8/site-packages (from torch->easyocr) (3.10.0.0)\n",
      "Building wheels for collected packages: opencv-python, scikit-image\n",
      "  Building wheel for opencv-python (PEP 517) ... \u001b[?25ldone\n",
      "\u001b[?25h  Created wheel for opencv-python: filename=opencv_python-4.5.1.48-cp38-cp38-macosx_11_3_arm64.whl size=10514432 sha256=fd67451d2933c5024d936f6ec6b88127e6d54b79ad10101943d0c591067d3abb\n",
      "  Stored in directory: /Users/mufseeramusthafa/Library/Caches/pip/wheels/b0/23/2e/cb78762f1aa90f5d4ab66bfbbb9e65b7d5b0476f06cc01dd0a\n",
      "  Building wheel for scikit-image (PEP 517) ... \u001b[?25ldone\n",
      "\u001b[?25h  Created wheel for scikit-image: filename=scikit_image-0.18.1-cp38-cp38-macosx_11_0_arm64.whl size=11824090 sha256=2479e670b21d76f40aacb39809f5de18a0cd75c79a20b11b0e769ad663938042\n",
      "  Stored in directory: /Users/mufseeramusthafa/Library/Caches/pip/wheels/a5/b4/53/37810f45d0500ba98ecd6729dab003d43ebe7831b322d6f041\n",
      "Successfully built opencv-python scikit-image\n",
      "Installing collected packages: decorator, tifffile, PyWavelets, networkx, imageio, torchvision, scikit-image, python-bidi, opencv-python, easyocr\n",
      "  Attempting uninstall: decorator\n",
      "    Found existing installation: decorator 5.0.9\n",
      "    Uninstalling decorator-5.0.9:\n",
      "      Successfully uninstalled decorator-5.0.9\n",
      "Successfully installed PyWavelets-1.1.1 decorator-4.4.2 easyocr-1.3.2 imageio-2.9.0 networkx-2.5.1 opencv-python-4.5.1.48 python-bidi-0.4.2 scikit-image-0.18.1 tifffile-2021.6.14 torchvision-0.10.0\n",
      "Note: you may need to restart the kernel to use updated packages.\n"
     ]
    }
   ],
   "source": [
    "pip install easyocr"
   ]
  },
  {
   "cell_type": "code",
   "execution_count": null,
   "id": "5be6964e",
   "metadata": {},
   "outputs": [],
   "source": []
  }
 ],
 "metadata": {
  "kernelspec": {
   "display_name": "Python 3",
   "language": "python",
   "name": "python3"
  },
  "language_info": {
   "codemirror_mode": {
    "name": "ipython",
    "version": 3
   },
   "file_extension": ".py",
   "mimetype": "text/x-python",
   "name": "python",
   "nbconvert_exporter": "python",
   "pygments_lexer": "ipython3",
   "version": "3.8.6"
  }
 },
 "nbformat": 4,
 "nbformat_minor": 5
}
